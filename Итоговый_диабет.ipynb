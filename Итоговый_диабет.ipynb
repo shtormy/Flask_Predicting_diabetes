{
 "cells": [
  {
   "cell_type": "code",
   "execution_count": 323,
   "id": "98713778",
   "metadata": {},
   "outputs": [],
   "source": [
    "import numpy as np\n",
    "import pandas as pd\n",
    "import matplotlib.pyplot as plt\n",
    "import seaborn as sns\n",
    "import urllib \n",
    "from flask import Flask, request, jsonify\n",
    "from markupsafe import escape\n",
    "import json     \n",
    "\n",
    "import json \n",
    "import dill\n",
    "from sklearn.model_selection import train_test_split, GridSearchCV\n",
    "from sklearn.base import BaseEstimator, TransformerMixin\n",
    "from sklearn.metrics import roc_auc_score,roc_curve, precision_recall_curve\n",
    "from sklearn.compose import ColumnTransformer, make_column_selector\n",
    "from sklearn.preprocessing import StandardScaler, OneHotEncoder, FunctionTransformer\n",
    "from sklearn.pipeline import Pipeline, FeatureUnion\n",
    "from sklearn.impute import SimpleImputer\n",
    "from sklearn.ensemble import RandomForestClassifier\n",
    "\n",
    "import sklearn.datasets\n",
    "import sklearn\n",
    "sklearn.set_config(display='diagram')\n",
    "\n",
    "import dill\n",
    "dill._dill._reverse_typemap['ClassType'] = type"
   ]
  },
  {
   "cell_type": "markdown",
   "id": "e309e37d",
   "metadata": {},
   "source": [
    "## Шаг 1"
   ]
  },
  {
   "cell_type": "code",
   "execution_count": 324,
   "id": "c4c4b082",
   "metadata": {},
   "outputs": [
    {
     "data": {
      "text/html": [
       "<div>\n",
       "<style scoped>\n",
       "    .dataframe tbody tr th:only-of-type {\n",
       "        vertical-align: middle;\n",
       "    }\n",
       "\n",
       "    .dataframe tbody tr th {\n",
       "        vertical-align: top;\n",
       "    }\n",
       "\n",
       "    .dataframe thead th {\n",
       "        text-align: right;\n",
       "    }\n",
       "</style>\n",
       "<table border=\"1\" class=\"dataframe\">\n",
       "  <thead>\n",
       "    <tr style=\"text-align: right;\">\n",
       "      <th></th>\n",
       "      <th>gender</th>\n",
       "      <th>age</th>\n",
       "      <th>hypertension</th>\n",
       "      <th>heart_disease</th>\n",
       "      <th>smoking_history</th>\n",
       "      <th>bmi</th>\n",
       "      <th>HbA1c_level</th>\n",
       "      <th>blood_glucose_level</th>\n",
       "      <th>diabetes</th>\n",
       "    </tr>\n",
       "  </thead>\n",
       "  <tbody>\n",
       "    <tr>\n",
       "      <th>0</th>\n",
       "      <td>Female</td>\n",
       "      <td>80.0</td>\n",
       "      <td>0</td>\n",
       "      <td>1</td>\n",
       "      <td>never</td>\n",
       "      <td>25.19</td>\n",
       "      <td>6.6</td>\n",
       "      <td>140</td>\n",
       "      <td>0</td>\n",
       "    </tr>\n",
       "    <tr>\n",
       "      <th>1</th>\n",
       "      <td>Female</td>\n",
       "      <td>54.0</td>\n",
       "      <td>0</td>\n",
       "      <td>0</td>\n",
       "      <td>No Info</td>\n",
       "      <td>27.32</td>\n",
       "      <td>6.6</td>\n",
       "      <td>80</td>\n",
       "      <td>0</td>\n",
       "    </tr>\n",
       "    <tr>\n",
       "      <th>2</th>\n",
       "      <td>Male</td>\n",
       "      <td>28.0</td>\n",
       "      <td>0</td>\n",
       "      <td>0</td>\n",
       "      <td>never</td>\n",
       "      <td>27.32</td>\n",
       "      <td>5.7</td>\n",
       "      <td>158</td>\n",
       "      <td>0</td>\n",
       "    </tr>\n",
       "  </tbody>\n",
       "</table>\n",
       "</div>"
      ],
      "text/plain": [
       "   gender   age  hypertension  heart_disease smoking_history    bmi  \\\n",
       "0  Female  80.0             0              1           never  25.19   \n",
       "1  Female  54.0             0              0         No Info  27.32   \n",
       "2    Male  28.0             0              0           never  27.32   \n",
       "\n",
       "   HbA1c_level  blood_glucose_level  diabetes  \n",
       "0          6.6                  140         0  \n",
       "1          6.6                   80         0  \n",
       "2          5.7                  158         0  "
      ]
     },
     "execution_count": 324,
     "metadata": {},
     "output_type": "execute_result"
    }
   ],
   "source": [
    "df_train = pd.read_csv(\"diabetes_prediction_dataset.csv\")\n",
    "df_train.head(3)"
   ]
  },
  {
   "cell_type": "code",
   "execution_count": 325,
   "id": "711d4329",
   "metadata": {},
   "outputs": [],
   "source": [
    "#Для удобства пользователей сразу поменяем значения в столбцах gender и smoking_history\n",
    "df_train['gender'] = df_train['gender'].replace({'Female': 0, 'Male': 1, 'Other': 0})\n",
    "df_train['smoking_history'] = df_train['smoking_history'].replace({'No Info': 0, 'never': 0, 'not current': 0, 'current': 1, 'ever': 1, 'former': 1})"
   ]
  },
  {
   "cell_type": "code",
   "execution_count": 326,
   "id": "7e4611fd",
   "metadata": {},
   "outputs": [],
   "source": [
    "features = ['blood_glucose_level', 'age', 'hypertension', 'heart_disease', 'HbA1c_level', 'bmi', 'gender', 'smoking_history']\n",
    "target = 'diabetes'"
   ]
  },
  {
   "cell_type": "code",
   "execution_count": 327,
   "id": "af68c115",
   "metadata": {},
   "outputs": [],
   "source": [
    "X_train, X_test, y_train, y_test = train_test_split(df_train, df_train['diabetes'], test_size=0.33, random_state=42)\n",
    "\n",
    "#save test\n",
    "X_test.to_csv(\"X_test.csv\", index=None)\n",
    "y_test.to_csv(\"y_test.csv\", index=None)\n",
    "#save train\n",
    "X_train.to_csv(\"X_train.csv\", index=None)\n",
    "y_train.to_csv(\"y_train.csv\", index=None)"
   ]
  },
  {
   "cell_type": "code",
   "execution_count": 328,
   "id": "ca4b8882",
   "metadata": {},
   "outputs": [],
   "source": [
    "class ColumnSelector(BaseEstimator, TransformerMixin):\n",
    "    \"\"\"\n",
    "    Transformer to select a single column from the data frame to perform additional transformations on\n",
    "    \"\"\"\n",
    "    def __init__(self, key):\n",
    "        self.key = key\n",
    "\n",
    "    def fit(self, X, y=None):\n",
    "        return self\n",
    "\n",
    "    def transform(self, X):\n",
    "        return X[self.key]\n",
    "    \n",
    "class NumberSelector(BaseEstimator, TransformerMixin):\n",
    "    \"\"\"\n",
    "    Transformer to select a single column from the data frame to perform additional transformations on\n",
    "    Use on numeric columns in the data\n",
    "    \"\"\"\n",
    "    def __init__(self, key):\n",
    "        self.key = key\n",
    "\n",
    "    def fit(self, X, y=None):\n",
    "        return self\n",
    "\n",
    "    def transform(self, X):\n",
    "        return X[[self.key]]\n",
    "    \n",
    "class SampleImputer(BaseEstimator, TransformerMixin):\n",
    "    def __init__(self, key, value):\n",
    "        self.key = key\n",
    "        self.value = value\n",
    "        \n",
    "    def fit(self, X, y=None):\n",
    "        return self\n",
    "    \n",
    "    def transform(self, X):\n",
    "        X[self.key] = X[self.key].fillna(self.value)\n",
    "        return X[self.key]\n",
    "    \n",
    "class OHEEncoder(BaseEstimator, TransformerMixin):\n",
    "    def __init__(self, key):\n",
    "        self.key = key\n",
    "        self.columns = []\n",
    "\n",
    "    def fit(self, X, y=None):\n",
    "        self.columns = [col for col in pd.get_dummies(X, prefix=self.key).columns]\n",
    "        return self\n",
    "\n",
    "    def transform(self, X):\n",
    "        X = pd.get_dummies(X, prefix=self.key)\n",
    "        test_columns = [col for col in X.columns]\n",
    "       \n",
    "        for col_ in self.columns:\n",
    "            if col_ not in test_columns:\n",
    "                X[col_] = 0\n",
    "        return X[self.columns]"
   ]
  },
  {
   "cell_type": "code",
   "execution_count": 329,
   "id": "e56c552a",
   "metadata": {},
   "outputs": [],
   "source": [
    "continuous_columns = ['blood_glucose_level', 'age', 'hypertension', 'heart_disease', 'HbA1c_level', 'bmi', 'gender', 'smoking_history']\n",
    "final_transformers = list()\n",
    "    \n",
    "for cont_col in continuous_columns:\n",
    "    cont_transformer = Pipeline([\n",
    "                ('selector', NumberSelector(key=cont_col)),\n",
    "                ('scaler', StandardScaler())\n",
    "            ])\n",
    "    final_transformers.append((cont_col, cont_transformer))\n",
    "    \n",
    "feats = FeatureUnion(final_transformers)\n",
    "\n",
    "feature_processing = Pipeline([('feats', feats)])"
   ]
  },
  {
   "cell_type": "code",
   "execution_count": 330,
   "id": "891fd798",
   "metadata": {},
   "outputs": [
    {
     "data": {
      "text/html": [
       "<style>#sk-fcfc921b-99ba-477d-8d16-1a11d2ae0d1d {color: black;background-color: white;}#sk-fcfc921b-99ba-477d-8d16-1a11d2ae0d1d pre{padding: 0;}#sk-fcfc921b-99ba-477d-8d16-1a11d2ae0d1d div.sk-toggleable {background-color: white;}#sk-fcfc921b-99ba-477d-8d16-1a11d2ae0d1d label.sk-toggleable__label {cursor: pointer;display: block;width: 100%;margin-bottom: 0;padding: 0.3em;box-sizing: border-box;text-align: center;}#sk-fcfc921b-99ba-477d-8d16-1a11d2ae0d1d label.sk-toggleable__label-arrow:before {content: \"▸\";float: left;margin-right: 0.25em;color: #696969;}#sk-fcfc921b-99ba-477d-8d16-1a11d2ae0d1d label.sk-toggleable__label-arrow:hover:before {color: black;}#sk-fcfc921b-99ba-477d-8d16-1a11d2ae0d1d div.sk-estimator:hover label.sk-toggleable__label-arrow:before {color: black;}#sk-fcfc921b-99ba-477d-8d16-1a11d2ae0d1d div.sk-toggleable__content {max-height: 0;max-width: 0;overflow: hidden;text-align: left;background-color: #f0f8ff;}#sk-fcfc921b-99ba-477d-8d16-1a11d2ae0d1d div.sk-toggleable__content pre {margin: 0.2em;color: black;border-radius: 0.25em;background-color: #f0f8ff;}#sk-fcfc921b-99ba-477d-8d16-1a11d2ae0d1d input.sk-toggleable__control:checked~div.sk-toggleable__content {max-height: 200px;max-width: 100%;overflow: auto;}#sk-fcfc921b-99ba-477d-8d16-1a11d2ae0d1d input.sk-toggleable__control:checked~label.sk-toggleable__label-arrow:before {content: \"▾\";}#sk-fcfc921b-99ba-477d-8d16-1a11d2ae0d1d div.sk-estimator input.sk-toggleable__control:checked~label.sk-toggleable__label {background-color: #d4ebff;}#sk-fcfc921b-99ba-477d-8d16-1a11d2ae0d1d div.sk-label input.sk-toggleable__control:checked~label.sk-toggleable__label {background-color: #d4ebff;}#sk-fcfc921b-99ba-477d-8d16-1a11d2ae0d1d input.sk-hidden--visually {border: 0;clip: rect(1px 1px 1px 1px);clip: rect(1px, 1px, 1px, 1px);height: 1px;margin: -1px;overflow: hidden;padding: 0;position: absolute;width: 1px;}#sk-fcfc921b-99ba-477d-8d16-1a11d2ae0d1d div.sk-estimator {font-family: monospace;background-color: #f0f8ff;border: 1px dotted black;border-radius: 0.25em;box-sizing: border-box;margin-bottom: 0.5em;}#sk-fcfc921b-99ba-477d-8d16-1a11d2ae0d1d div.sk-estimator:hover {background-color: #d4ebff;}#sk-fcfc921b-99ba-477d-8d16-1a11d2ae0d1d div.sk-parallel-item::after {content: \"\";width: 100%;border-bottom: 1px solid gray;flex-grow: 1;}#sk-fcfc921b-99ba-477d-8d16-1a11d2ae0d1d div.sk-label:hover label.sk-toggleable__label {background-color: #d4ebff;}#sk-fcfc921b-99ba-477d-8d16-1a11d2ae0d1d div.sk-serial::before {content: \"\";position: absolute;border-left: 1px solid gray;box-sizing: border-box;top: 2em;bottom: 0;left: 50%;}#sk-fcfc921b-99ba-477d-8d16-1a11d2ae0d1d div.sk-serial {display: flex;flex-direction: column;align-items: center;background-color: white;padding-right: 0.2em;padding-left: 0.2em;}#sk-fcfc921b-99ba-477d-8d16-1a11d2ae0d1d div.sk-item {z-index: 1;}#sk-fcfc921b-99ba-477d-8d16-1a11d2ae0d1d div.sk-parallel {display: flex;align-items: stretch;justify-content: center;background-color: white;}#sk-fcfc921b-99ba-477d-8d16-1a11d2ae0d1d div.sk-parallel::before {content: \"\";position: absolute;border-left: 1px solid gray;box-sizing: border-box;top: 2em;bottom: 0;left: 50%;}#sk-fcfc921b-99ba-477d-8d16-1a11d2ae0d1d div.sk-parallel-item {display: flex;flex-direction: column;position: relative;background-color: white;}#sk-fcfc921b-99ba-477d-8d16-1a11d2ae0d1d div.sk-parallel-item:first-child::after {align-self: flex-end;width: 50%;}#sk-fcfc921b-99ba-477d-8d16-1a11d2ae0d1d div.sk-parallel-item:last-child::after {align-self: flex-start;width: 50%;}#sk-fcfc921b-99ba-477d-8d16-1a11d2ae0d1d div.sk-parallel-item:only-child::after {width: 0;}#sk-fcfc921b-99ba-477d-8d16-1a11d2ae0d1d div.sk-dashed-wrapped {border: 1px dashed gray;margin: 0 0.4em 0.5em 0.4em;box-sizing: border-box;padding-bottom: 0.4em;background-color: white;position: relative;}#sk-fcfc921b-99ba-477d-8d16-1a11d2ae0d1d div.sk-label label {font-family: monospace;font-weight: bold;background-color: white;display: inline-block;line-height: 1.2em;}#sk-fcfc921b-99ba-477d-8d16-1a11d2ae0d1d div.sk-label-container {position: relative;z-index: 2;text-align: center;}#sk-fcfc921b-99ba-477d-8d16-1a11d2ae0d1d div.sk-container {/* jupyter's `normalize.less` sets `[hidden] { display: none; }` but bootstrap.min.css set `[hidden] { display: none !important; }` so we also need the `!important` here to be able to override the default hidden behavior on the sphinx rendered scikit-learn.org. See: https://github.com/scikit-learn/scikit-learn/issues/21755 */display: inline-block !important;position: relative;}#sk-fcfc921b-99ba-477d-8d16-1a11d2ae0d1d div.sk-text-repr-fallback {display: none;}</style><div id=\"sk-fcfc921b-99ba-477d-8d16-1a11d2ae0d1d\" class=\"sk-top-container\"><div class=\"sk-text-repr-fallback\"><pre>Pipeline(steps=[(&#x27;features&#x27;,\n",
       "                 FeatureUnion(transformer_list=[(&#x27;blood_glucose_level&#x27;,\n",
       "                                                 Pipeline(steps=[(&#x27;selector&#x27;,\n",
       "                                                                  NumberSelector(key=&#x27;blood_glucose_level&#x27;)),\n",
       "                                                                 (&#x27;scaler&#x27;,\n",
       "                                                                  StandardScaler())])),\n",
       "                                                (&#x27;age&#x27;,\n",
       "                                                 Pipeline(steps=[(&#x27;selector&#x27;,\n",
       "                                                                  NumberSelector(key=&#x27;age&#x27;)),\n",
       "                                                                 (&#x27;scaler&#x27;,\n",
       "                                                                  StandardScaler())])),\n",
       "                                                (&#x27;hypertension&#x27;,\n",
       "                                                 Pipeline(steps=[(&#x27;selector&#x27;,\n",
       "                                                                  NumberSelector(key=&#x27;hypertens...\n",
       "                                                 Pipeline(steps=[(&#x27;selector&#x27;,\n",
       "                                                                  NumberSelector(key=&#x27;bmi&#x27;)),\n",
       "                                                                 (&#x27;scaler&#x27;,\n",
       "                                                                  StandardScaler())])),\n",
       "                                                (&#x27;gender&#x27;,\n",
       "                                                 Pipeline(steps=[(&#x27;selector&#x27;,\n",
       "                                                                  NumberSelector(key=&#x27;gender&#x27;)),\n",
       "                                                                 (&#x27;scaler&#x27;,\n",
       "                                                                  StandardScaler())])),\n",
       "                                                (&#x27;smoking_history&#x27;,\n",
       "                                                 Pipeline(steps=[(&#x27;selector&#x27;,\n",
       "                                                                  NumberSelector(key=&#x27;smoking_history&#x27;)),\n",
       "                                                                 (&#x27;scaler&#x27;,\n",
       "                                                                  StandardScaler())]))])),\n",
       "                (&#x27;random_forest_model&#x27;, RandomForestClassifier())])</pre><b>Please rerun this cell to show the HTML repr or trust the notebook.</b></div><div class=\"sk-container\" hidden><div class=\"sk-item sk-dashed-wrapped\"><div class=\"sk-label-container\"><div class=\"sk-label sk-toggleable\"><input class=\"sk-toggleable__control sk-hidden--visually\" id=\"446be089-94f0-40c2-a6dd-17b9b89e65e3\" type=\"checkbox\" ><label for=\"446be089-94f0-40c2-a6dd-17b9b89e65e3\" class=\"sk-toggleable__label sk-toggleable__label-arrow\">Pipeline</label><div class=\"sk-toggleable__content\"><pre>Pipeline(steps=[(&#x27;features&#x27;,\n",
       "                 FeatureUnion(transformer_list=[(&#x27;blood_glucose_level&#x27;,\n",
       "                                                 Pipeline(steps=[(&#x27;selector&#x27;,\n",
       "                                                                  NumberSelector(key=&#x27;blood_glucose_level&#x27;)),\n",
       "                                                                 (&#x27;scaler&#x27;,\n",
       "                                                                  StandardScaler())])),\n",
       "                                                (&#x27;age&#x27;,\n",
       "                                                 Pipeline(steps=[(&#x27;selector&#x27;,\n",
       "                                                                  NumberSelector(key=&#x27;age&#x27;)),\n",
       "                                                                 (&#x27;scaler&#x27;,\n",
       "                                                                  StandardScaler())])),\n",
       "                                                (&#x27;hypertension&#x27;,\n",
       "                                                 Pipeline(steps=[(&#x27;selector&#x27;,\n",
       "                                                                  NumberSelector(key=&#x27;hypertens...\n",
       "                                                 Pipeline(steps=[(&#x27;selector&#x27;,\n",
       "                                                                  NumberSelector(key=&#x27;bmi&#x27;)),\n",
       "                                                                 (&#x27;scaler&#x27;,\n",
       "                                                                  StandardScaler())])),\n",
       "                                                (&#x27;gender&#x27;,\n",
       "                                                 Pipeline(steps=[(&#x27;selector&#x27;,\n",
       "                                                                  NumberSelector(key=&#x27;gender&#x27;)),\n",
       "                                                                 (&#x27;scaler&#x27;,\n",
       "                                                                  StandardScaler())])),\n",
       "                                                (&#x27;smoking_history&#x27;,\n",
       "                                                 Pipeline(steps=[(&#x27;selector&#x27;,\n",
       "                                                                  NumberSelector(key=&#x27;smoking_history&#x27;)),\n",
       "                                                                 (&#x27;scaler&#x27;,\n",
       "                                                                  StandardScaler())]))])),\n",
       "                (&#x27;random_forest_model&#x27;, RandomForestClassifier())])</pre></div></div></div><div class=\"sk-serial\"><div class=\"sk-item sk-dashed-wrapped\"><div class=\"sk-label-container\"><div class=\"sk-label sk-toggleable\"><input class=\"sk-toggleable__control sk-hidden--visually\" id=\"8fe548b4-2103-40c9-be60-d4f5f5912210\" type=\"checkbox\" ><label for=\"8fe548b4-2103-40c9-be60-d4f5f5912210\" class=\"sk-toggleable__label sk-toggleable__label-arrow\">features: FeatureUnion</label><div class=\"sk-toggleable__content\"><pre>FeatureUnion(transformer_list=[(&#x27;blood_glucose_level&#x27;,\n",
       "                                Pipeline(steps=[(&#x27;selector&#x27;,\n",
       "                                                 NumberSelector(key=&#x27;blood_glucose_level&#x27;)),\n",
       "                                                (&#x27;scaler&#x27;, StandardScaler())])),\n",
       "                               (&#x27;age&#x27;,\n",
       "                                Pipeline(steps=[(&#x27;selector&#x27;,\n",
       "                                                 NumberSelector(key=&#x27;age&#x27;)),\n",
       "                                                (&#x27;scaler&#x27;, StandardScaler())])),\n",
       "                               (&#x27;hypertension&#x27;,\n",
       "                                Pipeline(steps=[(&#x27;selector&#x27;,\n",
       "                                                 NumberSelector(key=&#x27;hypertension&#x27;)),\n",
       "                                                (&#x27;scaler&#x27;, StandardSca...\n",
       "                                                 NumberSelector(key=&#x27;HbA1c_level&#x27;)),\n",
       "                                                (&#x27;scaler&#x27;, StandardScaler())])),\n",
       "                               (&#x27;bmi&#x27;,\n",
       "                                Pipeline(steps=[(&#x27;selector&#x27;,\n",
       "                                                 NumberSelector(key=&#x27;bmi&#x27;)),\n",
       "                                                (&#x27;scaler&#x27;, StandardScaler())])),\n",
       "                               (&#x27;gender&#x27;,\n",
       "                                Pipeline(steps=[(&#x27;selector&#x27;,\n",
       "                                                 NumberSelector(key=&#x27;gender&#x27;)),\n",
       "                                                (&#x27;scaler&#x27;, StandardScaler())])),\n",
       "                               (&#x27;smoking_history&#x27;,\n",
       "                                Pipeline(steps=[(&#x27;selector&#x27;,\n",
       "                                                 NumberSelector(key=&#x27;smoking_history&#x27;)),\n",
       "                                                (&#x27;scaler&#x27;,\n",
       "                                                 StandardScaler())]))])</pre></div></div></div><div class=\"sk-parallel\"><div class=\"sk-parallel-item\"><div class=\"sk-item\"><div class=\"sk-label-container\"><div class=\"sk-label sk-toggleable\"><label>blood_glucose_level</label></div></div><div class=\"sk-serial\"><div class=\"sk-item\"><div class=\"sk-serial\"><div class=\"sk-item\"><div class=\"sk-estimator sk-toggleable\"><input class=\"sk-toggleable__control sk-hidden--visually\" id=\"f8b3e853-e6cb-46fb-b568-d6baa441569d\" type=\"checkbox\" ><label for=\"f8b3e853-e6cb-46fb-b568-d6baa441569d\" class=\"sk-toggleable__label sk-toggleable__label-arrow\">NumberSelector</label><div class=\"sk-toggleable__content\"><pre>NumberSelector(key=&#x27;blood_glucose_level&#x27;)</pre></div></div></div><div class=\"sk-item\"><div class=\"sk-estimator sk-toggleable\"><input class=\"sk-toggleable__control sk-hidden--visually\" id=\"829540dc-b125-4764-ad60-76cef9c3a96b\" type=\"checkbox\" ><label for=\"829540dc-b125-4764-ad60-76cef9c3a96b\" class=\"sk-toggleable__label sk-toggleable__label-arrow\">StandardScaler</label><div class=\"sk-toggleable__content\"><pre>StandardScaler()</pre></div></div></div></div></div></div></div></div><div class=\"sk-parallel-item\"><div class=\"sk-item\"><div class=\"sk-label-container\"><div class=\"sk-label sk-toggleable\"><label>age</label></div></div><div class=\"sk-serial\"><div class=\"sk-item\"><div class=\"sk-serial\"><div class=\"sk-item\"><div class=\"sk-estimator sk-toggleable\"><input class=\"sk-toggleable__control sk-hidden--visually\" id=\"c3f5268b-5c16-470f-92a6-48cbdd35f5e1\" type=\"checkbox\" ><label for=\"c3f5268b-5c16-470f-92a6-48cbdd35f5e1\" class=\"sk-toggleable__label sk-toggleable__label-arrow\">NumberSelector</label><div class=\"sk-toggleable__content\"><pre>NumberSelector(key=&#x27;age&#x27;)</pre></div></div></div><div class=\"sk-item\"><div class=\"sk-estimator sk-toggleable\"><input class=\"sk-toggleable__control sk-hidden--visually\" id=\"cb0c5986-8aae-4edc-977e-92be8b364d61\" type=\"checkbox\" ><label for=\"cb0c5986-8aae-4edc-977e-92be8b364d61\" class=\"sk-toggleable__label sk-toggleable__label-arrow\">StandardScaler</label><div class=\"sk-toggleable__content\"><pre>StandardScaler()</pre></div></div></div></div></div></div></div></div><div class=\"sk-parallel-item\"><div class=\"sk-item\"><div class=\"sk-label-container\"><div class=\"sk-label sk-toggleable\"><label>hypertension</label></div></div><div class=\"sk-serial\"><div class=\"sk-item\"><div class=\"sk-serial\"><div class=\"sk-item\"><div class=\"sk-estimator sk-toggleable\"><input class=\"sk-toggleable__control sk-hidden--visually\" id=\"38c1be13-b285-4472-ae33-868404b27874\" type=\"checkbox\" ><label for=\"38c1be13-b285-4472-ae33-868404b27874\" class=\"sk-toggleable__label sk-toggleable__label-arrow\">NumberSelector</label><div class=\"sk-toggleable__content\"><pre>NumberSelector(key=&#x27;hypertension&#x27;)</pre></div></div></div><div class=\"sk-item\"><div class=\"sk-estimator sk-toggleable\"><input class=\"sk-toggleable__control sk-hidden--visually\" id=\"656b70d7-efd0-4048-a3e6-2d83629c99b5\" type=\"checkbox\" ><label for=\"656b70d7-efd0-4048-a3e6-2d83629c99b5\" class=\"sk-toggleable__label sk-toggleable__label-arrow\">StandardScaler</label><div class=\"sk-toggleable__content\"><pre>StandardScaler()</pre></div></div></div></div></div></div></div></div><div class=\"sk-parallel-item\"><div class=\"sk-item\"><div class=\"sk-label-container\"><div class=\"sk-label sk-toggleable\"><label>heart_disease</label></div></div><div class=\"sk-serial\"><div class=\"sk-item\"><div class=\"sk-serial\"><div class=\"sk-item\"><div class=\"sk-estimator sk-toggleable\"><input class=\"sk-toggleable__control sk-hidden--visually\" id=\"33bb306c-c36f-4625-b3e2-27b6186205ee\" type=\"checkbox\" ><label for=\"33bb306c-c36f-4625-b3e2-27b6186205ee\" class=\"sk-toggleable__label sk-toggleable__label-arrow\">NumberSelector</label><div class=\"sk-toggleable__content\"><pre>NumberSelector(key=&#x27;heart_disease&#x27;)</pre></div></div></div><div class=\"sk-item\"><div class=\"sk-estimator sk-toggleable\"><input class=\"sk-toggleable__control sk-hidden--visually\" id=\"037827fc-7f79-49d4-b84e-653b1b1c9f57\" type=\"checkbox\" ><label for=\"037827fc-7f79-49d4-b84e-653b1b1c9f57\" class=\"sk-toggleable__label sk-toggleable__label-arrow\">StandardScaler</label><div class=\"sk-toggleable__content\"><pre>StandardScaler()</pre></div></div></div></div></div></div></div></div><div class=\"sk-parallel-item\"><div class=\"sk-item\"><div class=\"sk-label-container\"><div class=\"sk-label sk-toggleable\"><label>HbA1c_level</label></div></div><div class=\"sk-serial\"><div class=\"sk-item\"><div class=\"sk-serial\"><div class=\"sk-item\"><div class=\"sk-estimator sk-toggleable\"><input class=\"sk-toggleable__control sk-hidden--visually\" id=\"341b3a13-cb6d-4562-98e8-4ade49700fd0\" type=\"checkbox\" ><label for=\"341b3a13-cb6d-4562-98e8-4ade49700fd0\" class=\"sk-toggleable__label sk-toggleable__label-arrow\">NumberSelector</label><div class=\"sk-toggleable__content\"><pre>NumberSelector(key=&#x27;HbA1c_level&#x27;)</pre></div></div></div><div class=\"sk-item\"><div class=\"sk-estimator sk-toggleable\"><input class=\"sk-toggleable__control sk-hidden--visually\" id=\"33e7039b-42bc-44c9-9b26-f733e5486235\" type=\"checkbox\" ><label for=\"33e7039b-42bc-44c9-9b26-f733e5486235\" class=\"sk-toggleable__label sk-toggleable__label-arrow\">StandardScaler</label><div class=\"sk-toggleable__content\"><pre>StandardScaler()</pre></div></div></div></div></div></div></div></div><div class=\"sk-parallel-item\"><div class=\"sk-item\"><div class=\"sk-label-container\"><div class=\"sk-label sk-toggleable\"><label>bmi</label></div></div><div class=\"sk-serial\"><div class=\"sk-item\"><div class=\"sk-serial\"><div class=\"sk-item\"><div class=\"sk-estimator sk-toggleable\"><input class=\"sk-toggleable__control sk-hidden--visually\" id=\"fc1fff2d-eac5-4811-a507-3b6b1a8d33c9\" type=\"checkbox\" ><label for=\"fc1fff2d-eac5-4811-a507-3b6b1a8d33c9\" class=\"sk-toggleable__label sk-toggleable__label-arrow\">NumberSelector</label><div class=\"sk-toggleable__content\"><pre>NumberSelector(key=&#x27;bmi&#x27;)</pre></div></div></div><div class=\"sk-item\"><div class=\"sk-estimator sk-toggleable\"><input class=\"sk-toggleable__control sk-hidden--visually\" id=\"bc576758-d83d-4197-80a2-69ea69138a3a\" type=\"checkbox\" ><label for=\"bc576758-d83d-4197-80a2-69ea69138a3a\" class=\"sk-toggleable__label sk-toggleable__label-arrow\">StandardScaler</label><div class=\"sk-toggleable__content\"><pre>StandardScaler()</pre></div></div></div></div></div></div></div></div><div class=\"sk-parallel-item\"><div class=\"sk-item\"><div class=\"sk-label-container\"><div class=\"sk-label sk-toggleable\"><label>gender</label></div></div><div class=\"sk-serial\"><div class=\"sk-item\"><div class=\"sk-serial\"><div class=\"sk-item\"><div class=\"sk-estimator sk-toggleable\"><input class=\"sk-toggleable__control sk-hidden--visually\" id=\"a391f85f-4b23-4577-b767-64dcf526b90f\" type=\"checkbox\" ><label for=\"a391f85f-4b23-4577-b767-64dcf526b90f\" class=\"sk-toggleable__label sk-toggleable__label-arrow\">NumberSelector</label><div class=\"sk-toggleable__content\"><pre>NumberSelector(key=&#x27;gender&#x27;)</pre></div></div></div><div class=\"sk-item\"><div class=\"sk-estimator sk-toggleable\"><input class=\"sk-toggleable__control sk-hidden--visually\" id=\"21f66d0c-e111-4724-b38f-0facbaf7ab08\" type=\"checkbox\" ><label for=\"21f66d0c-e111-4724-b38f-0facbaf7ab08\" class=\"sk-toggleable__label sk-toggleable__label-arrow\">StandardScaler</label><div class=\"sk-toggleable__content\"><pre>StandardScaler()</pre></div></div></div></div></div></div></div></div><div class=\"sk-parallel-item\"><div class=\"sk-item\"><div class=\"sk-label-container\"><div class=\"sk-label sk-toggleable\"><label>smoking_history</label></div></div><div class=\"sk-serial\"><div class=\"sk-item\"><div class=\"sk-serial\"><div class=\"sk-item\"><div class=\"sk-estimator sk-toggleable\"><input class=\"sk-toggleable__control sk-hidden--visually\" id=\"d070cdb7-5289-4723-913c-f7e0faf9562b\" type=\"checkbox\" ><label for=\"d070cdb7-5289-4723-913c-f7e0faf9562b\" class=\"sk-toggleable__label sk-toggleable__label-arrow\">NumberSelector</label><div class=\"sk-toggleable__content\"><pre>NumberSelector(key=&#x27;smoking_history&#x27;)</pre></div></div></div><div class=\"sk-item\"><div class=\"sk-estimator sk-toggleable\"><input class=\"sk-toggleable__control sk-hidden--visually\" id=\"54bb2c98-5a49-4fe7-8e06-1d72540f214b\" type=\"checkbox\" ><label for=\"54bb2c98-5a49-4fe7-8e06-1d72540f214b\" class=\"sk-toggleable__label sk-toggleable__label-arrow\">StandardScaler</label><div class=\"sk-toggleable__content\"><pre>StandardScaler()</pre></div></div></div></div></div></div></div></div></div></div><div class=\"sk-item\"><div class=\"sk-estimator sk-toggleable\"><input class=\"sk-toggleable__control sk-hidden--visually\" id=\"4b3740d7-b04f-4761-b32b-0f6d0cdca5ff\" type=\"checkbox\" ><label for=\"4b3740d7-b04f-4761-b32b-0f6d0cdca5ff\" class=\"sk-toggleable__label sk-toggleable__label-arrow\">RandomForestClassifier</label><div class=\"sk-toggleable__content\"><pre>RandomForestClassifier()</pre></div></div></div></div></div></div></div>"
      ],
      "text/plain": [
       "Pipeline(steps=[('features',\n",
       "                 FeatureUnion(transformer_list=[('blood_glucose_level',\n",
       "                                                 Pipeline(steps=[('selector',\n",
       "                                                                  NumberSelector(key='blood_glucose_level')),\n",
       "                                                                 ('scaler',\n",
       "                                                                  StandardScaler())])),\n",
       "                                                ('age',\n",
       "                                                 Pipeline(steps=[('selector',\n",
       "                                                                  NumberSelector(key='age')),\n",
       "                                                                 ('scaler',\n",
       "                                                                  StandardScaler())])),\n",
       "                                                ('hypertension',\n",
       "                                                 Pipeline(steps=[('selector',\n",
       "                                                                  NumberSelector(key='hypertens...\n",
       "                                                 Pipeline(steps=[('selector',\n",
       "                                                                  NumberSelector(key='bmi')),\n",
       "                                                                 ('scaler',\n",
       "                                                                  StandardScaler())])),\n",
       "                                                ('gender',\n",
       "                                                 Pipeline(steps=[('selector',\n",
       "                                                                  NumberSelector(key='gender')),\n",
       "                                                                 ('scaler',\n",
       "                                                                  StandardScaler())])),\n",
       "                                                ('smoking_history',\n",
       "                                                 Pipeline(steps=[('selector',\n",
       "                                                                  NumberSelector(key='smoking_history')),\n",
       "                                                                 ('scaler',\n",
       "                                                                  StandardScaler())]))])),\n",
       "                ('random_forest_model', RandomForestClassifier())])"
      ]
     },
     "execution_count": 330,
     "metadata": {},
     "output_type": "execute_result"
    }
   ],
   "source": [
    "pipeline = Pipeline([\n",
    "    ('features', feats),\n",
    "    ('random_forest_model', RandomForestClassifier()),\n",
    "])\n",
    "pipeline.fit(X_train, y_train)"
   ]
  },
  {
   "cell_type": "code",
   "execution_count": 331,
   "id": "a1811119",
   "metadata": {},
   "outputs": [],
   "source": [
    "with open(\"rf_diabetes.dill\", \"wb\") as f:\n",
    "    dill.dump(pipeline, f)"
   ]
  },
  {
   "cell_type": "markdown",
   "id": "25159e14",
   "metadata": {},
   "source": [
    "## Шаг 2"
   ]
  },
  {
   "cell_type": "code",
   "execution_count": 332,
   "id": "18e87adb",
   "metadata": {},
   "outputs": [],
   "source": [
    "X_test = pd.read_csv(\"X_test.csv\")\n",
    "y_test = pd.read_csv(\"y_test.csv\")"
   ]
  },
  {
   "cell_type": "code",
   "execution_count": 333,
   "id": "dcbda561",
   "metadata": {},
   "outputs": [
    {
     "data": {
      "text/html": [
       "<div>\n",
       "<style scoped>\n",
       "    .dataframe tbody tr th:only-of-type {\n",
       "        vertical-align: middle;\n",
       "    }\n",
       "\n",
       "    .dataframe tbody tr th {\n",
       "        vertical-align: top;\n",
       "    }\n",
       "\n",
       "    .dataframe thead th {\n",
       "        text-align: right;\n",
       "    }\n",
       "</style>\n",
       "<table border=\"1\" class=\"dataframe\">\n",
       "  <thead>\n",
       "    <tr style=\"text-align: right;\">\n",
       "      <th></th>\n",
       "      <th>gender</th>\n",
       "      <th>age</th>\n",
       "      <th>hypertension</th>\n",
       "      <th>heart_disease</th>\n",
       "      <th>smoking_history</th>\n",
       "      <th>bmi</th>\n",
       "      <th>HbA1c_level</th>\n",
       "      <th>blood_glucose_level</th>\n",
       "      <th>diabetes</th>\n",
       "    </tr>\n",
       "  </thead>\n",
       "  <tbody>\n",
       "    <tr>\n",
       "      <th>0</th>\n",
       "      <td>0</td>\n",
       "      <td>13.0</td>\n",
       "      <td>0</td>\n",
       "      <td>0</td>\n",
       "      <td>0</td>\n",
       "      <td>20.82</td>\n",
       "      <td>5.8</td>\n",
       "      <td>126</td>\n",
       "      <td>0</td>\n",
       "    </tr>\n",
       "    <tr>\n",
       "      <th>1</th>\n",
       "      <td>0</td>\n",
       "      <td>3.0</td>\n",
       "      <td>0</td>\n",
       "      <td>0</td>\n",
       "      <td>0</td>\n",
       "      <td>21.00</td>\n",
       "      <td>5.0</td>\n",
       "      <td>145</td>\n",
       "      <td>0</td>\n",
       "    </tr>\n",
       "    <tr>\n",
       "      <th>2</th>\n",
       "      <td>1</td>\n",
       "      <td>63.0</td>\n",
       "      <td>0</td>\n",
       "      <td>0</td>\n",
       "      <td>1</td>\n",
       "      <td>25.32</td>\n",
       "      <td>3.5</td>\n",
       "      <td>200</td>\n",
       "      <td>0</td>\n",
       "    </tr>\n",
       "  </tbody>\n",
       "</table>\n",
       "</div>"
      ],
      "text/plain": [
       "   gender   age  hypertension  heart_disease  smoking_history    bmi  \\\n",
       "0       0  13.0             0              0                0  20.82   \n",
       "1       0   3.0             0              0                0  21.00   \n",
       "2       1  63.0             0              0                1  25.32   \n",
       "\n",
       "   HbA1c_level  blood_glucose_level  diabetes  \n",
       "0          5.8                  126         0  \n",
       "1          5.0                  145         0  \n",
       "2          3.5                  200         0  "
      ]
     },
     "execution_count": 333,
     "metadata": {},
     "output_type": "execute_result"
    }
   ],
   "source": [
    "X_test.head(3)"
   ]
  },
  {
   "cell_type": "code",
   "execution_count": 334,
   "id": "aa25964c",
   "metadata": {},
   "outputs": [],
   "source": [
    "with open('rf_diabetes.dill', 'rb') as in_strm:\n",
    "    pipeline = dill.load(in_strm)"
   ]
  },
  {
   "cell_type": "code",
   "execution_count": 335,
   "id": "be17ebb4",
   "metadata": {},
   "outputs": [],
   "source": [
    "predictions = pipeline.predict_proba(X_test)#.iloc[:500]\n",
    "#pd.DataFrame({'preds': predictions[:, 1]}).to_csv(\"test_predictions.csv\", index=None)"
   ]
  },
  {
   "cell_type": "code",
   "execution_count": 351,
   "id": "b92a192b",
   "metadata": {},
   "outputs": [
    {
     "name": "stdout",
     "output_type": "stream",
     "text": [
      "Best Threshold=0.59, F-Score=0.773, Precision=0.966, Recall=0.679\n"
     ]
    }
   ],
   "source": [
    "b=1.2\n",
    "precision, recall, thresholds = precision_recall_curve(y_test, predictions[:, 1])\n",
    "\n",
    "fscore = (1+(b**2))*(precision * recall) / ((b**2)*precision + recall)\n",
    "# locate the index of the largest f score\n",
    "ix = np.argmax(fscore)\n",
    "print(f'Best Threshold={thresholds[ix]}, F-Score={fscore[ix]:.3f}, Precision={precision[ix]:.3f}, Recall={recall[ix]:.3f}')"
   ]
  },
  {
   "cell_type": "code",
   "execution_count": 352,
   "id": "1daac94d",
   "metadata": {},
   "outputs": [
    {
     "data": {
      "text/plain": [
       "0.9614661054393043"
      ]
     },
     "execution_count": 352,
     "metadata": {},
     "output_type": "execute_result"
    }
   ],
   "source": [
    "roc_auc_score(y_score=predictions[:, 1][:], y_true=y_test)"
   ]
  },
  {
   "cell_type": "markdown",
   "id": "7afe674c",
   "metadata": {},
   "source": [
    "## Шаг 3"
   ]
  },
  {
   "cell_type": "code",
   "execution_count": 338,
   "id": "cd1a5956",
   "metadata": {},
   "outputs": [],
   "source": [
    "X_test = pd.read_csv(\"X_test.csv\")\n",
    "y_test = pd.read_csv(\"y_test.csv\")"
   ]
  },
  {
   "cell_type": "code",
   "execution_count": 339,
   "id": "ba3488b2",
   "metadata": {},
   "outputs": [],
   "source": [
    "def get_prediction(x):\n",
    "    age, gender, hypertension, heart_disease, smoking_history, bmi, HbA1c_level, blood_glucose_level = x\n",
    "   \n",
    "    \n",
    "    body = {'age': age,\n",
    "            'gender': gender,\n",
    "            'gender_Other': gender_Other,\n",
    "            'hypertension': hypertension, \n",
    "            'heart_disease': heart_disease,\n",
    "            'smoking_history': smoking_history,\n",
    "            'smoking_history_not_current': smoking_history_not_current,\n",
    "            'bmi': bmi,\n",
    "            'HbA1c_level': HbA1c_level,\n",
    "            'blood_glucose_level': blood_glucose_level\n",
    "            } \n",
    "\n",
    "    myurl = \"http://127.0.0.1:5000/predict\"\n",
    "    req = urllib.request.Request(myurl)\n",
    "    req.add_header('Content-Type', 'application/json; charset=utf-8')\n",
    "    jsondata = json.dumps(body)\n",
    "    jsondataasbytes = jsondata.encode('utf-8')   # needs to be bytes\n",
    "    req.add_header('Content-Length', len(jsondataasbytes))\n",
    "    print (jsondataasbytes)\n",
    "    response = urllib.request.urlopen(req, jsondataasbytes)\n",
    "    return json.loads(response.read())['predictions']"
   ]
  },
  {
   "cell_type": "code",
   "execution_count": 340,
   "id": "43056c77",
   "metadata": {},
   "outputs": [],
   "source": [
    "# # Пробный запуск Flask\n",
    "\n",
    "# app = Flask(__name__)\n",
    "\n",
    "# @app.route(\"/a\")\n",
    "# def hello():\n",
    "#     return \"Hello World!\"\n",
    "\n",
    "# if __name__ == '__main__':\n",
    "#     app.run()"
   ]
  }
 ],
 "metadata": {
  "kernelspec": {
   "display_name": "Python 3 (ipykernel)",
   "language": "python",
   "name": "python3"
  },
  "language_info": {
   "codemirror_mode": {
    "name": "ipython",
    "version": 3
   },
   "file_extension": ".py",
   "mimetype": "text/x-python",
   "name": "python",
   "nbconvert_exporter": "python",
   "pygments_lexer": "ipython3",
   "version": "3.8.17"
  }
 },
 "nbformat": 4,
 "nbformat_minor": 5
}
