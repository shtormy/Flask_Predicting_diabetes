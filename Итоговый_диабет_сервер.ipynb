{
 "cells": [
  {
   "cell_type": "markdown",
   "id": "bd9bc760",
   "metadata": {},
   "source": [
    "### **Создаем сервис для обработки запросов к модели**"
   ]
  },
  {
   "cell_type": "code",
   "execution_count": 10,
   "id": "369e8208",
   "metadata": {},
   "outputs": [],
   "source": [
    "import json \n",
    "import dill\n",
    "import numpy as np\n",
    "import pandas as pd\n",
    "from flask import Flask, request, jsonify"
   ]
  },
  {
   "cell_type": "code",
   "execution_count": 7,
   "id": "b8e7fd97",
   "metadata": {},
   "outputs": [],
   "source": [
    "with open('rf_diabetes.dill', 'rb') as in_strm:\n",
    "    model = dill.load(in_strm)"
   ]
  },
  {
   "cell_type": "code",
   "execution_count": 8,
   "id": "a0c1b316",
   "metadata": {},
   "outputs": [],
   "source": [
    "X_test = pd.read_csv(\"X_test.csv\")\n",
    "y_test = pd.read_csv(\"y_test.csv\")"
   ]
  },
  {
   "cell_type": "markdown",
   "id": "9e29dd41",
   "metadata": {},
   "source": [
    "Запустить сервис и не глушить его, пока работаем "
   ]
  },
  {
   "cell_type": "code",
   "execution_count": 17,
   "id": "3364543b",
   "metadata": {},
   "outputs": [
    {
     "name": "stdout",
     "output_type": "stream",
     "text": [
      " * Serving Flask app '__main__'\n",
      " * Debug mode: off\n"
     ]
    },
    {
     "name": "stderr",
     "output_type": "stream",
     "text": [
      "WARNING: This is a development server. Do not use it in a production deployment. Use a production WSGI server instead.\n",
      " * Running on http://127.0.0.1:5000\n",
      "Press CTRL+C to quit\n",
      "[2023-04-28 20:43:37,308] ERROR in app: Exception on /predict [POST]\n",
      "TypeError: float() argument must be a string or a number, not 'list'\n",
      "\n",
      "The above exception was the direct cause of the following exception:\n",
      "\n",
      "Traceback (most recent call last):\n",
      "  File \"C:\\Users\\ia_sv\\AppData\\Roaming\\Python\\Python39\\site-packages\\flask\\app.py\", line 2190, in wsgi_app\n",
      "    response = self.full_dispatch_request()\n",
      "  File \"C:\\Users\\ia_sv\\AppData\\Roaming\\Python\\Python39\\site-packages\\flask\\app.py\", line 1486, in full_dispatch_request\n",
      "    rv = self.handle_user_exception(e)\n",
      "  File \"C:\\Users\\ia_sv\\AppData\\Roaming\\Python\\Python39\\site-packages\\flask\\app.py\", line 1484, in full_dispatch_request\n",
      "    rv = self.dispatch_request()\n",
      "  File \"C:\\Users\\ia_sv\\AppData\\Roaming\\Python\\Python39\\site-packages\\flask\\app.py\", line 1469, in dispatch_request\n",
      "    return self.ensure_sync(self.view_functions[rule.endpoint])(**view_args)\n",
      "  File \"C:\\Users\\ia_sv\\AppData\\Local\\Temp\\ipykernel_83044\\966679347.py\", line 43, in predict\n",
      "    preds = model.predict_proba(pd.DataFrame({\"age\": [age],\n",
      "  File \"C:\\Users\\ia_sv\\anaconda3\\lib\\site-packages\\sklearn\\utils\\metaestimators.py\", line 113, in <lambda>\n",
      "    out = lambda *args, **kwargs: self.fn(obj, *args, **kwargs)  # noqa\n",
      "  File \"C:\\Users\\ia_sv\\anaconda3\\lib\\site-packages\\sklearn\\pipeline.py\", line 535, in predict_proba\n",
      "    Xt = transform.transform(Xt)\n",
      "  File \"C:\\Users\\ia_sv\\anaconda3\\lib\\site-packages\\sklearn\\pipeline.py\", line 1222, in transform\n",
      "    Xs = Parallel(n_jobs=self.n_jobs)(\n",
      "  File \"C:\\Users\\ia_sv\\AppData\\Roaming\\Python\\Python39\\site-packages\\joblib\\parallel.py\", line 1085, in __call__\n",
      "    if self.dispatch_one_batch(iterator):\n",
      "  File \"C:\\Users\\ia_sv\\AppData\\Roaming\\Python\\Python39\\site-packages\\joblib\\parallel.py\", line 901, in dispatch_one_batch\n",
      "    self._dispatch(tasks)\n",
      "  File \"C:\\Users\\ia_sv\\AppData\\Roaming\\Python\\Python39\\site-packages\\joblib\\parallel.py\", line 819, in _dispatch\n",
      "    job = self._backend.apply_async(batch, callback=cb)\n",
      "  File \"C:\\Users\\ia_sv\\AppData\\Roaming\\Python\\Python39\\site-packages\\joblib\\_parallel_backends.py\", line 208, in apply_async\n",
      "    result = ImmediateResult(func)\n",
      "  File \"C:\\Users\\ia_sv\\AppData\\Roaming\\Python\\Python39\\site-packages\\joblib\\_parallel_backends.py\", line 597, in __init__\n",
      "    self.results = batch()\n",
      "  File \"C:\\Users\\ia_sv\\AppData\\Roaming\\Python\\Python39\\site-packages\\joblib\\parallel.py\", line 288, in __call__\n",
      "    return [func(*args, **kwargs)\n",
      "  File \"C:\\Users\\ia_sv\\AppData\\Roaming\\Python\\Python39\\site-packages\\joblib\\parallel.py\", line 288, in <listcomp>\n",
      "    return [func(*args, **kwargs)\n",
      "  File \"C:\\Users\\ia_sv\\anaconda3\\lib\\site-packages\\sklearn\\utils\\fixes.py\", line 216, in __call__\n",
      "    return self.function(*args, **kwargs)\n",
      "  File \"C:\\Users\\ia_sv\\anaconda3\\lib\\site-packages\\sklearn\\pipeline.py\", line 876, in _transform_one\n",
      "    res = transformer.transform(X)\n",
      "  File \"C:\\Users\\ia_sv\\anaconda3\\lib\\site-packages\\sklearn\\utils\\metaestimators.py\", line 113, in <lambda>\n",
      "    out = lambda *args, **kwargs: self.fn(obj, *args, **kwargs)  # noqa\n",
      "  File \"C:\\Users\\ia_sv\\anaconda3\\lib\\site-packages\\sklearn\\pipeline.py\", line 647, in transform\n",
      "    Xt = transform.transform(Xt)\n",
      "  File \"C:\\Users\\ia_sv\\anaconda3\\lib\\site-packages\\sklearn\\preprocessing\\_data.py\", line 973, in transform\n",
      "    X = self._validate_data(\n",
      "  File \"C:\\Users\\ia_sv\\anaconda3\\lib\\site-packages\\sklearn\\base.py\", line 566, in _validate_data\n",
      "    X = check_array(X, **check_params)\n",
      "  File \"C:\\Users\\ia_sv\\anaconda3\\lib\\site-packages\\sklearn\\utils\\validation.py\", line 746, in check_array\n",
      "    array = np.asarray(array, order=order, dtype=dtype)\n",
      "  File \"C:\\Users\\ia_sv\\anaconda3\\lib\\site-packages\\pandas\\core\\generic.py\", line 2064, in __array__\n",
      "    return np.asarray(self._values, dtype=dtype)\n",
      "ValueError: setting an array element with a sequence.\n",
      "127.0.0.1 - - [28/Apr/2023 20:43:37] \"POST //predict HTTP/1.1\" 500 -\n"
     ]
    }
   ],
   "source": [
    "# Обработчики и запуск Flask\n",
    "app = Flask(__name__)\n",
    "#run_with_ngrok(app)  # Start ngrok when app is run\n",
    "\n",
    "\n",
    "@app.route(\"/\", methods=[\"GET\"])\n",
    "def general():\n",
    "    return \"Welcome to prediction process\"\n",
    "\n",
    "@app.route('/predict', methods=['POST'])\n",
    "def predict():\n",
    "    data = {\"success\": False}\n",
    "\n",
    "    # ensure an image was properly uploaded to our endpoint\n",
    "    age, gender, hypertension, heart_disease, smoking_history, bmi, HbA1c_level, blood_glucose_level = '','','','','','','',''\n",
    "    \n",
    "    request_json = request.get_json()\n",
    "    \n",
    "    if request_json[\"age\"]:\n",
    "        age = request_json['age']\n",
    "        \n",
    "    if request_json[\"gender\"]:\n",
    "        gender = request_json['gender']\n",
    "                \n",
    "    if request_json[\"hypertension\"]:\n",
    "        hypertension = request_json['hypertension']\n",
    "        \n",
    "    if request_json[\"heart_disease\"]:\n",
    "        heart_disease = request_json['heart_disease']\n",
    "        \n",
    "    if request_json[\"smoking_history\"]:\n",
    "        smoking_history = request_json['smoking_history']\n",
    "        \n",
    "    if request_json[\"bmi\"]:\n",
    "        bmi = request_json['bmi']\n",
    "        \n",
    "    if request_json[\"HbA1c_level\"]:\n",
    "        HbA1c_level = request_json['HbA1c_level']\n",
    "        \n",
    "    if request_json[\"blood_glucose_level\"]:\n",
    "        blood_glucose_level = request_json['blood_glucose_level']\n",
    "     \n",
    "    preds = model.predict_proba(pd.DataFrame({\"age\": [age],\n",
    "                                              \"gender\": [gender],\n",
    "                                              \"hypertension\": [hypertension],\n",
    "                                              \"heart_disease\":[heart_disease],\n",
    "                                              \"smoking_history\": [smoking_history],\n",
    "                                              \"bmi\": [bmi],\n",
    "                                              \"HbA1c_level\": [HbA1c_level],\n",
    "                                              \"blood_glucose_level\": [blood_glucose_level]\n",
    "                                             }))\n",
    "    data[\"predictions\"] = preds[:, 1][0]\n",
    "   \n",
    "        # indicate that the request was a success\n",
    "    data[\"success\"] = True\n",
    "    print('OK')\n",
    "    print(f'Предсказание: 1-наличие диабета, 0-отсутствие диабета')\n",
    "        # return the data dictionary as a JSON response\n",
    "    return jsonify(data)\n",
    "\n",
    "\n",
    "if __name__ == '__main__':\n",
    "    app.run()"
   ]
  },
  {
   "cell_type": "code",
   "execution_count": 15,
   "id": "db9f9037",
   "metadata": {},
   "outputs": [],
   "source": [
    "# Пример данных\n",
    "age= '47'\n",
    "gender= '1'\n",
    "hypertension= '1' \n",
    "heart_disease= '0'\n",
    "smoking_history= '0'\n",
    "bmi= '26.3' \n",
    "HbA1c_level= '6'\n",
    "blood_glucose_level = '85'\n",
    "\n",
    "\n",
    "\n",
    "body = {\n",
    "        'age': age,\n",
    "        \"gender\": gender,\n",
    "        'hypertension': hypertension, \n",
    "        'heart_disease': heart_disease,\n",
    "        \"smoking_history\": smoking_history,\n",
    "        'bmi': bmi,\n",
    "        'HbA1c_level': HbA1c_level,\n",
    "        'blood_glucose_level': blood_glucose_level\n",
    "        }"
   ]
  },
  {
   "cell_type": "code",
   "execution_count": 16,
   "id": "b10b8e3a",
   "metadata": {},
   "outputs": [
    {
     "name": "stdout",
     "output_type": "stream",
     "text": [
      "OK\n",
      "Предсказание: 1-наличие диабета, 0-отсутствие диабета\n"
     ]
    },
    {
     "data": {
      "text/plain": [
       "{'predictions': 0.0, 'success': True}"
      ]
     },
     "execution_count": 16,
     "metadata": {},
     "output_type": "execute_result"
    }
   ],
   "source": [
    "with app.test_client() as t:\n",
    "    response = t.post('/predict', json=body)\n",
    "    json_data = response.get_json()\n",
    "\n",
    "json_data"
   ]
  },
  {
   "cell_type": "code",
   "execution_count": null,
   "id": "29d09ce1",
   "metadata": {},
   "outputs": [],
   "source": []
  },
  {
   "cell_type": "code",
   "execution_count": null,
   "id": "fe7accdc",
   "metadata": {},
   "outputs": [],
   "source": []
  }
 ],
 "metadata": {
  "kernelspec": {
   "display_name": "Python 3 (ipykernel)",
   "language": "python",
   "name": "python3"
  },
  "language_info": {
   "codemirror_mode": {
    "name": "ipython",
    "version": 3
   },
   "file_extension": ".py",
   "mimetype": "text/x-python",
   "name": "python",
   "nbconvert_exporter": "python",
   "pygments_lexer": "ipython3",
   "version": "3.9.12"
  }
 },
 "nbformat": 4,
 "nbformat_minor": 5
}
